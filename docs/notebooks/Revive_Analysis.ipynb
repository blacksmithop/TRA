{
 "cells": [
  {
   "cell_type": "markdown",
   "metadata": {
    "id": "dDlWpIeFPQAm"
   },
   "source": [
    "# Dataset\n",
    "\n",
    "Let us fetch the revives dataset from this github gist"
   ]
  },
  {
   "cell_type": "code",
   "execution_count": null,
   "metadata": {},
   "outputs": [
    {
     "ename": "",
     "evalue": "",
     "output_type": "error",
     "traceback": [
      "\u001b[1;31mRunning cells with 'Python 3.11.5' requires the ipykernel package.\n",
      "\u001b[1;31m<a href='command:jupyter.createPythonEnvAndSelectController'>Create a Python Environment</a> with the required packages.\n",
      "\u001b[1;31mOr install 'ipykernel' using the command: '/home/abhinav/.pyenv/versions/analysis/bin/python -m pip install ipykernel -U --user --force-reinstall'"
     ]
    }
   ],
   "source": [
    "!pip install -q numpy pandas seaborn pydantic"
   ]
  },
  {
   "cell_type": "code",
   "execution_count": null,
   "metadata": {
    "colab": {
     "base_uri": "https://localhost:8080/"
    },
    "id": "N3Hual0DGIQa",
    "outputId": "69e08234-0920-4f58-d5d5-03f9d6ca8a15"
   },
   "outputs": [
    {
     "ename": "",
     "evalue": "",
     "output_type": "error",
     "traceback": [
      "\u001b[1;31mRunning cells with 'Python 3.11.5' requires the ipykernel package.\n",
      "\u001b[1;31m<a href='command:jupyter.createPythonEnvAndSelectController'>Create a Python Environment</a> with the required packages.\n",
      "\u001b[1;31mOr install 'ipykernel' using the command: '/home/abhinav/.pyenv/versions/torn/bin/python -m pip install ipykernel -U --user --force-reinstall'"
     ]
    }
   ],
   "source": [
    "!curl https://gist.githubusercontent.com/blacksmithop/cc2800983e5b2fcbc4fcee177bfa1619/raw/16cc5743d5218ded8da01e79f607bc4cedaee86c/oxiblurr_revives.json > ./data/revives.json"
   ]
  },
  {
   "cell_type": "code",
   "execution_count": 5,
   "metadata": {
    "id": "XvznkyELOQSj"
   },
   "outputs": [],
   "source": [
    "from json import load"
   ]
  },
  {
   "cell_type": "code",
   "execution_count": 6,
   "metadata": {
    "id": "qIwneE-4OSQb"
   },
   "outputs": [],
   "source": [
    "with open(\"./revives.json\") as f:\n",
    "  revives = load(f)"
   ]
  },
  {
   "cell_type": "code",
   "execution_count": 7,
   "metadata": {
    "colab": {
     "base_uri": "https://localhost:8080/"
    },
    "id": "SDTtd1ViOYZK",
    "outputId": "2c8c4a1e-92b0-4b29-ec8c-7aac43cf0763"
   },
   "outputs": [
    {
     "data": {
      "text/plain": [
       "193"
      ]
     },
     "execution_count": 7,
     "metadata": {},
     "output_type": "execute_result"
    }
   ],
   "source": [
    "len(revives)"
   ]
  },
  {
   "cell_type": "code",
   "execution_count": 8,
   "metadata": {
    "colab": {
     "base_uri": "https://localhost:8080/"
    },
    "id": "nGB90WvVOcj2",
    "outputId": "a2a96d9e-9c01-4a75-fd96-61996b70e7fc"
   },
   "outputs": [
    {
     "data": {
      "text/plain": [
       "{'id': 14940099,\n",
       " 'reviver': {'id': 2877105,\n",
       "  'name': 'Nixi',\n",
       "  'faction': {'id': 40992, 'name': 'Medic!!'},\n",
       "  'skill': 62.42},\n",
       " 'target': {'id': 1712955,\n",
       "  'name': 'oxiblurr',\n",
       "  'faction': {'id': 41164, 'name': 'UNiTed Flying Doctors'},\n",
       "  'hospital_reason': 'Mugged by someone',\n",
       "  'early_discharge': False,\n",
       "  'last_action': 1760693666,\n",
       "  'online_status': 'Idle'},\n",
       " 'success_chance': 96.24,\n",
       " 'result': 'success',\n",
       " 'timestamp': 1760693993}"
      ]
     },
     "execution_count": 8,
     "metadata": {},
     "output_type": "execute_result"
    }
   ],
   "source": [
    "revives[0]"
   ]
  },
  {
   "cell_type": "markdown",
   "metadata": {
    "id": "Cf8yHEkDPWti"
   },
   "source": [
    "# Defining a Schema\n",
    "\n",
    "Having a pydantic schema will make it easier to access the various members"
   ]
  },
  {
   "cell_type": "code",
   "execution_count": 11,
   "metadata": {
    "id": "ygRuOxBuOdl1"
   },
   "outputs": [],
   "source": [
    "from pydantic import BaseModel\n",
    "from typing import Optional"
   ]
  },
  {
   "cell_type": "code",
   "execution_count": 12,
   "metadata": {
    "id": "Zl64QuxcOiAJ"
   },
   "outputs": [],
   "source": [
    "class FactionFull(BaseModel):\n",
    "    id: Optional[int]\n",
    "    name: Optional[str]\n",
    "\n",
    "class ReviverFull(BaseModel):\n",
    "    id: int\n",
    "    name: Optional[str]\n",
    "    faction: Optional[FactionFull]\n",
    "    skill: Optional[float]\n",
    "\n",
    "class TargetFull(BaseModel):\n",
    "    id: int\n",
    "    name: Optional[str]\n",
    "    faction: Optional[FactionFull]\n",
    "    hospital_reason: str\n",
    "    early_discharge: bool\n",
    "    last_action: int\n",
    "    online_status: str\n",
    "\n",
    "class ReviveFull(BaseModel):\n",
    "    id: int\n",
    "    reviver: ReviverFull\n",
    "    target: TargetFull\n",
    "    success_chance: float\n",
    "    result: str\n",
    "    timestamp: int"
   ]
  },
  {
   "cell_type": "code",
   "execution_count": 14,
   "metadata": {
    "id": "xI97ZbaxOr2j"
   },
   "outputs": [],
   "source": [
    "revive_data = [ReviveFull(**item) for item in revives]"
   ]
  },
  {
   "cell_type": "code",
   "execution_count": 16,
   "metadata": {
    "id": "AopXfAgBO5BR"
   },
   "outputs": [],
   "source": [
    "from pprint import pprint"
   ]
  },
  {
   "cell_type": "code",
   "execution_count": 19,
   "metadata": {
    "colab": {
     "base_uri": "https://localhost:8080/"
    },
    "id": "mFY89ip3OyX9",
    "outputId": "925de8fd-f6a2-4b96-c33d-f1d33671539f"
   },
   "outputs": [
    {
     "name": "stdout",
     "output_type": "stream",
     "text": [
      "{'id': 14940099,\n",
      " 'result': 'success',\n",
      " 'reviver': {'faction': {'id': 40992, 'name': 'Medic!!'},\n",
      "             'id': 2877105,\n",
      "             'name': 'Nixi',\n",
      "             'skill': 62.42},\n",
      " 'success_chance': 96.24,\n",
      " 'target': {'early_discharge': False,\n",
      "            'faction': {'id': 41164, 'name': 'UNiTed Flying Doctors'},\n",
      "            'hospital_reason': 'Mugged by someone',\n",
      "            'id': 1712955,\n",
      "            'last_action': 1760693666,\n",
      "            'name': 'oxiblurr',\n",
      "            'online_status': 'Idle'},\n",
      " 'timestamp': 1760693993}\n"
     ]
    }
   ],
   "source": [
    "pprint(revive_data[0].model_dump())"
   ]
  },
  {
   "cell_type": "markdown",
   "metadata": {
    "id": "5Sf8AKPbPr2l"
   },
   "source": [
    "# Filtering\n",
    "\n",
    "Let us filter this dataset only include *your* revives"
   ]
  },
  {
   "cell_type": "code",
   "execution_count": 20,
   "metadata": {
    "id": "lcPVTxDWO28D"
   },
   "outputs": [],
   "source": [
    "MY_USER_ID = 1712955"
   ]
  },
  {
   "cell_type": "code",
   "execution_count": 21,
   "metadata": {
    "id": "1ygoQO34PDcs"
   },
   "outputs": [],
   "source": [
    "my_revive_data = [\n",
    "    revive for revive in revive_data\n",
    "    if revive.reviver.id == MY_USER_ID\n",
    "]"
   ]
  },
  {
   "cell_type": "code",
   "execution_count": 22,
   "metadata": {
    "colab": {
     "base_uri": "https://localhost:8080/"
    },
    "id": "zBeGDoTOPICl",
    "outputId": "6373155c-da62-4bf8-df0d-4a2d5db36ccb"
   },
   "outputs": [
    {
     "data": {
      "text/plain": [
       "(193, 186)"
      ]
     },
     "execution_count": 22,
     "metadata": {},
     "output_type": "execute_result"
    }
   ],
   "source": [
    "len(revive_data), len(my_revive_data)"
   ]
  },
  {
   "cell_type": "code",
   "execution_count": 23,
   "metadata": {
    "colab": {
     "base_uri": "https://localhost:8080/"
    },
    "id": "KKriUAQVPJxM",
    "outputId": "b0df7538-2733-47f5-c26c-0da673a4611f"
   },
   "outputs": [
    {
     "name": "stdout",
     "output_type": "stream",
     "text": [
      "{'id': 14939572,\n",
      " 'result': 'success',\n",
      " 'reviver': {'faction': {'id': 41164, 'name': 'UNiTed Flying Doctors'},\n",
      "             'id': 1712955,\n",
      "             'name': 'oxiblurr',\n",
      "             'skill': 30.9},\n",
      " 'success_chance': 93.09,\n",
      " 'target': {'early_discharge': False,\n",
      "            'faction': {'id': 38887, 'name': 'Claws'},\n",
      "            'hospital_reason': 'Gunshot wound to the chest with lung puncture',\n",
      "            'id': 1771815,\n",
      "            'last_action': 1760669022,\n",
      "            'name': 'ManceR',\n",
      "            'online_status': 'Offline'},\n",
      " 'timestamp': 1760683513}\n"
     ]
    }
   ],
   "source": [
    "pprint(my_revive_data[0].model_dump())"
   ]
  },
  {
   "cell_type": "code",
   "execution_count": 24,
   "metadata": {
    "id": "UpCj8Z7BQGiv"
   },
   "outputs": [],
   "source": [
    "from json import dump"
   ]
  },
  {
   "cell_type": "code",
   "execution_count": 26,
   "metadata": {
    "id": "8cbQar9bQIPb"
   },
   "outputs": [],
   "source": [
    "with open(\"my_revives.json\", \"w\") as f:\n",
    "  dump([item.model_dump() for item in my_revive_data], f, indent=4)"
   ]
  },
  {
   "cell_type": "markdown",
   "metadata": {
    "id": "SpF_slEyPx7v"
   },
   "source": [
    "# Analysis\n",
    "\n",
    "Let us plot and an analyze this data"
   ]
  },
  {
   "cell_type": "code",
   "execution_count": 27,
   "metadata": {
    "id": "59OQDthaP0ij"
   },
   "outputs": [],
   "source": [
    "import seaborn as sns\n",
    "import matplotlib.pyplot as plt\n",
    "import pandas as pd\n",
    "import numpy as np"
   ]
  },
  {
   "cell_type": "code",
   "execution_count": 28,
   "metadata": {
    "colab": {
     "base_uri": "https://localhost:8080/"
    },
    "id": "ZW-tcrBSQ4_-",
    "outputId": "5f6647c9-7499-402d-ae20-4f81bcee1608"
   },
   "outputs": [
    {
     "data": {
      "text/plain": [
       "[[30.9, 93.09], [30.83, 87.56], [30.72, 83.45], [30.6, 93.06], [30.45, 88.59]]"
      ]
     },
     "execution_count": 28,
     "metadata": {},
     "output_type": "execute_result"
    }
   ],
   "source": [
    "skill_success_data = [ [revive.reviver.skill, revive.success_chance] for revive in\n",
    "    my_revive_data]\n",
    "\n",
    "skill_success_data[:5]\n",
    "# also consider outcome"
   ]
  },
  {
   "cell_type": "code",
   "execution_count": 30,
   "metadata": {
    "colab": {
     "base_uri": "https://localhost:8080/",
     "height": 564
    },
    "id": "SpwgujioQoQe",
    "outputId": "ebc2dc80-6f45-48d0-f42c-bf38ce069823"
   },
   "outputs": [
    {
     "data": {
      "image/png": "[encoded data removed]",
      "text/plain": [
       "<Figure size 800x600 with 1 Axes>"
      ]
     },
     "metadata": {},
     "output_type": "display_data"
    }
   ],
   "source": [
    "np.random.seed(42)\n",
    "df = pd.DataFrame(skill_success_data, columns=['skill', 'success_chance'])\n",
    "\n",
    "# Basic scatter plot\n",
    "plt.figure(figsize=(8, 6))\n",
    "sns.scatterplot(data=df, x='skill', y='success_chance')\n",
    "plt.title('Skill vs Success Chance')\n",
    "plt.xlabel('Skill ($)')\n",
    "plt.ylabel('Success Chance ($)')\n",
    "plt.show()"
   ]
  },
  {
   "cell_type": "code",
   "execution_count": 31,
   "metadata": {
    "colab": {
     "base_uri": "https://localhost:8080/",
     "height": 423
    },
    "id": "G_2NAhtkRZ_o",
    "outputId": "b67c0df6-1076-43e9-badf-460743c1e8f9"
   },
   "outputs": [
    {
     "data": {
      "application/vnd.google.colaboratory.intrinsic+json": {
       "summary": "{\n  \"name\": \"df\",\n  \"rows\": 186,\n  \"fields\": [\n    {\n      \"column\": \"skill\",\n      \"properties\": {\n        \"dtype\": \"number\",\n        \"std\": 7.177772892702579,\n        \"min\": 5.26,\n        \"max\": 30.9,\n        \"num_unique_values\": 159,\n        \"samples\": [\n          20.08,\n          5.83,\n          11.88\n        ],\n        \"semantic_type\": \"\",\n        \"description\": \"\"\n      }\n    },\n    {\n      \"column\": \"success_chance\",\n      \"properties\": {\n        \"dtype\": \"number\",\n        \"std\": 10.646138879962002,\n        \"min\": 20.62,\n        \"max\": 93.09,\n        \"num_unique_values\": 171,\n        \"samples\": [\n          91.74,\n          92.35,\n          85.73\n        ],\n        \"semantic_type\": \"\",\n        \"description\": \"\"\n      }\n    }\n  ]\n}",
       "type": "dataframe",
       "variable_name": "df"
      },
      "text/html": [
       "\n",
       "  <div id=\"df-ad3cbb6f-8a42-4354-b789-9aa75761828b\" class=\"colab-df-container\">\n",
       "    <div>\n",
       "<style scoped>\n",
       "    .dataframe tbody tr th:only-of-type {\n",
       "        vertical-align: middle;\n",
       "    }\n",
       "\n",
       "    .dataframe tbody tr th {\n",
       "        vertical-align: top;\n",
       "    }\n",
       "\n",
       "    .dataframe thead th {\n",
       "        text-align: right;\n",
       "    }\n",
       "</style>\n",
       "<table border=\"1\" class=\"dataframe\">\n",
       "  <thead>\n",
       "    <tr style=\"text-align: right;\">\n",
       "      <th></th>\n",
       "      <th>skill</th>\n",
       "      <th>success_chance</th>\n",
       "    </tr>\n",
       "  </thead>\n",
       "  <tbody>\n",
       "    <tr>\n",
       "      <th>0</th>\n",
       "      <td>30.90</td>\n",
       "      <td>93.09</td>\n",
       "    </tr>\n",
       "    <tr>\n",
       "      <th>1</th>\n",
       "      <td>30.83</td>\n",
       "      <td>87.56</td>\n",
       "    </tr>\n",
       "    <tr>\n",
       "      <th>2</th>\n",
       "      <td>30.72</td>\n",
       "      <td>83.45</td>\n",
       "    </tr>\n",
       "    <tr>\n",
       "      <th>3</th>\n",
       "      <td>30.60</td>\n",
       "      <td>93.06</td>\n",
       "    </tr>\n",
       "    <tr>\n",
       "      <th>4</th>\n",
       "      <td>30.45</td>\n",
       "      <td>88.59</td>\n",
       "    </tr>\n",
       "    <tr>\n",
       "      <th>...</th>\n",
       "      <td>...</td>\n",
       "      <td>...</td>\n",
       "    </tr>\n",
       "    <tr>\n",
       "      <th>181</th>\n",
       "      <td>5.65</td>\n",
       "      <td>90.56</td>\n",
       "    </tr>\n",
       "    <tr>\n",
       "      <th>182</th>\n",
       "      <td>5.45</td>\n",
       "      <td>90.54</td>\n",
       "    </tr>\n",
       "    <tr>\n",
       "      <th>183</th>\n",
       "      <td>5.26</td>\n",
       "      <td>90.52</td>\n",
       "    </tr>\n",
       "    <tr>\n",
       "      <th>184</th>\n",
       "      <td>NaN</td>\n",
       "      <td>90.50</td>\n",
       "    </tr>\n",
       "    <tr>\n",
       "      <th>185</th>\n",
       "      <td>NaN</td>\n",
       "      <td>90.50</td>\n",
       "    </tr>\n",
       "  </tbody>\n",
       "</table>\n",
       "<p>186 rows × 2 columns</p>\n",
       "</div>\n",
       "    <div class=\"colab-df-buttons\">\n",
       "\n",
       "  <div class=\"colab-df-container\">\n",
       "    <button class=\"colab-df-convert\" onclick=\"convertToInteractive('df-ad3cbb6f-8a42-4354-b789-9aa75761828b')\"\n",
       "            title=\"Convert this dataframe to an interactive table.\"\n",
       "            style=\"display:none;\">\n",
       "\n",
       "  <svg xmlns=\"http://www.w3.org/2000/svg\" height=\"24px\" viewBox=\"0 -960 960 960\">\n",
       "    <path d=\"M120-120v-720h720v720H120Zm60-500h600v-160H180v160Zm220 220h160v-160H400v160Zm0 220h160v-160H400v160ZM180-400h160v-160H180v160Zm440 0h160v-160H620v160ZM180-180h160v-160H180v160Zm440 0h160v-160H620v160Z\"/>\n",
       "  </svg>\n",
       "    </button>\n",
       "\n",
       "  <style>\n",
       "    .colab-df-container {\n",
       "      display:flex;\n",
       "      gap: 12px;\n",
       "    }\n",
       "\n",
       "    .colab-df-convert {\n",
       "      background-color: #E8F0FE;\n",
       "      border: none;\n",
       "      border-radius: 50%;\n",
       "      cursor: pointer;\n",
       "      display: none;\n",
       "      fill: #1967D2;\n",
       "      height: 32px;\n",
       "      padding: 0 0 0 0;\n",
       "      width: 32px;\n",
       "    }\n",
       "\n",
       "    .colab-df-convert:hover {\n",
       "      background-color: #E2EBFA;\n",
       "      box-shadow: 0px 1px 2px rgba(60, 64, 67, 0.3), 0px 1px 3px 1px rgba(60, 64, 67, 0.15);\n",
       "      fill: #174EA6;\n",
       "    }\n",
       "\n",
       "    .colab-df-buttons div {\n",
       "      margin-bottom: 4px;\n",
       "    }\n",
       "\n",
       "    [theme=dark] .colab-df-convert {\n",
       "      background-color: #3B4455;\n",
       "      fill: #D2E3FC;\n",
       "    }\n",
       "\n",
       "    [theme=dark] .colab-df-convert:hover {\n",
       "      background-color: #434B5C;\n",
       "      box-shadow: 0px 1px 3px 1px rgba(0, 0, 0, 0.15);\n",
       "      filter: drop-shadow(0px 1px 2px rgba(0, 0, 0, 0.3));\n",
       "      fill: #FFFFFF;\n",
       "    }\n",
       "  </style>\n",
       "\n",
       "    <script>\n",
       "      const buttonEl =\n",
       "        document.querySelector('#df-ad3cbb6f-8a42-4354-b789-9aa75761828b button.colab-df-convert');\n",
       "      buttonEl.style.display =\n",
       "        google.colab.kernel.accessAllowed ? 'block' : 'none';\n",
       "\n",
       "      async function convertToInteractive(key) {\n",
       "        const element = document.querySelector('#df-ad3cbb6f-8a42-4354-b789-9aa75761828b');\n",
       "        const dataTable =\n",
       "          await google.colab.kernel.invokeFunction('convertToInteractive',\n",
       "                                                    [key], {});\n",
       "        if (!dataTable) return;\n",
       "\n",
       "        const docLinkHtml = 'Like what you see? Visit the ' +\n",
       "          '<a target=\"_blank\" href=https://colab.research.google.com/notebooks/data_table.ipynb>data table notebook</a>'\n",
       "          + ' to learn more about interactive tables.';\n",
       "        element.innerHTML = '';\n",
       "        dataTable['output_type'] = 'display_data';\n",
       "        await google.colab.output.renderOutput(dataTable, element);\n",
       "        const docLink = document.createElement('div');\n",
       "        docLink.innerHTML = docLinkHtml;\n",
       "        element.appendChild(docLink);\n",
       "      }\n",
       "    </script>\n",
       "  </div>\n",
       "\n",
       "\n",
       "    <div id=\"df-0b4f52ea-1e87-4f6b-a624-111f709d7c1b\">\n",
       "      <button class=\"colab-df-quickchart\" onclick=\"quickchart('df-0b4f52ea-1e87-4f6b-a624-111f709d7c1b')\"\n",
       "                title=\"Suggest charts\"\n",
       "                style=\"display:none;\">\n",
       "\n",
       "<svg xmlns=\"http://www.w3.org/2000/svg\" height=\"24px\"viewBox=\"0 0 24 24\"\n",
       "     width=\"24px\">\n",
       "    <g>\n",
       "        <path d=\"M19 3H5c-1.1 0-2 .9-2 2v14c0 1.1.9 2 2 2h14c1.1 0 2-.9 2-2V5c0-1.1-.9-2-2-2zM9 17H7v-7h2v7zm4 0h-2V7h2v10zm4 0h-2v-4h2v4z\"/>\n",
       "    </g>\n",
       "</svg>\n",
       "      </button>\n",
       "\n",
       "<style>\n",
       "  .colab-df-quickchart {\n",
       "      --bg-color: #E8F0FE;\n",
       "      --fill-color: #1967D2;\n",
       "      --hover-bg-color: #E2EBFA;\n",
       "      --hover-fill-color: #174EA6;\n",
       "      --disabled-fill-color: #AAA;\n",
       "      --disabled-bg-color: #DDD;\n",
       "  }\n",
       "\n",
       "  [theme=dark] .colab-df-quickchart {\n",
       "      --bg-color: #3B4455;\n",
       "      --fill-color: #D2E3FC;\n",
       "      --hover-bg-color: #434B5C;\n",
       "      --hover-fill-color: #FFFFFF;\n",
       "      --disabled-bg-color: #3B4455;\n",
       "      --disabled-fill-color: #666;\n",
       "  }\n",
       "\n",
       "  .colab-df-quickchart {\n",
       "    background-color: var(--bg-color);\n",
       "    border: none;\n",
       "    border-radius: 50%;\n",
       "    cursor: pointer;\n",
       "    display: none;\n",
       "    fill: var(--fill-color);\n",
       "    height: 32px;\n",
       "    padding: 0;\n",
       "    width: 32px;\n",
       "  }\n",
       "\n",
       "  .colab-df-quickchart:hover {\n",
       "    background-color: var(--hover-bg-color);\n",
       "    box-shadow: 0 1px 2px rgba(60, 64, 67, 0.3), 0 1px 3px 1px rgba(60, 64, 67, 0.15);\n",
       "    fill: var(--button-hover-fill-color);\n",
       "  }\n",
       "\n",
       "  .colab-df-quickchart-complete:disabled,\n",
       "  .colab-df-quickchart-complete:disabled:hover {\n",
       "    background-color: var(--disabled-bg-color);\n",
       "    fill: var(--disabled-fill-color);\n",
       "    box-shadow: none;\n",
       "  }\n",
       "\n",
       "  .colab-df-spinner {\n",
       "    border: 2px solid var(--fill-color);\n",
       "    border-color: transparent;\n",
       "    border-bottom-color: var(--fill-color);\n",
       "    animation:\n",
       "      spin 1s steps(1) infinite;\n",
       "  }\n",
       "\n",
       "  @keyframes spin {\n",
       "    0% {\n",
       "      border-color: transparent;\n",
       "      border-bottom-color: var(--fill-color);\n",
       "      border-left-color: var(--fill-color);\n",
       "    }\n",
       "    20% {\n",
       "      border-color: transparent;\n",
       "      border-left-color: var(--fill-color);\n",
       "      border-top-color: var(--fill-color);\n",
       "    }\n",
       "    30% {\n",
       "      border-color: transparent;\n",
       "      border-left-color: var(--fill-color);\n",
       "      border-top-color: var(--fill-color);\n",
       "      border-right-color: var(--fill-color);\n",
       "    }\n",
       "    40% {\n",
       "      border-color: transparent;\n",
       "      border-right-color: var(--fill-color);\n",
       "      border-top-color: var(--fill-color);\n",
       "    }\n",
       "    60% {\n",
       "      border-color: transparent;\n",
       "      border-right-color: var(--fill-color);\n",
       "    }\n",
       "    80% {\n",
       "      border-color: transparent;\n",
       "      border-right-color: var(--fill-color);\n",
       "      border-bottom-color: var(--fill-color);\n",
       "    }\n",
       "    90% {\n",
       "      border-color: transparent;\n",
       "      border-bottom-color: var(--fill-color);\n",
       "    }\n",
       "  }\n",
       "</style>\n",
       "\n",
       "      <script>\n",
       "        async function quickchart(key) {\n",
       "          const quickchartButtonEl =\n",
       "            document.querySelector('#' + key + ' button');\n",
       "          quickchartButtonEl.disabled = true;  // To prevent multiple clicks.\n",
       "          quickchartButtonEl.classList.add('colab-df-spinner');\n",
       "          try {\n",
       "            const charts = await google.colab.kernel.invokeFunction(\n",
       "                'suggestCharts', [key], {});\n",
       "          } catch (error) {\n",
       "            console.error('Error during call to suggestCharts:', error);\n",
       "          }\n",
       "          quickchartButtonEl.classList.remove('colab-df-spinner');\n",
       "          quickchartButtonEl.classList.add('colab-df-quickchart-complete');\n",
       "        }\n",
       "        (() => {\n",
       "          let quickchartButtonEl =\n",
       "            document.querySelector('#df-0b4f52ea-1e87-4f6b-a624-111f709d7c1b button');\n",
       "          quickchartButtonEl.style.display =\n",
       "            google.colab.kernel.accessAllowed ? 'block' : 'none';\n",
       "        })();\n",
       "      </script>\n",
       "    </div>\n",
       "\n",
       "  <div id=\"id_5ce97a21-2356-48b2-a150-cf2196e7139a\">\n",
       "    <style>\n",
       "      .colab-df-generate {\n",
       "        background-color: #E8F0FE;\n",
       "        border: none;\n",
       "        border-radius: 50%;\n",
       "        cursor: pointer;\n",
       "        display: none;\n",
       "        fill: #1967D2;\n",
       "        height: 32px;\n",
       "        padding: 0 0 0 0;\n",
       "        width: 32px;\n",
       "      }\n",
       "\n",
       "      .colab-df-generate:hover {\n",
       "        background-color: #E2EBFA;\n",
       "        box-shadow: 0px 1px 2px rgba(60, 64, 67, 0.3), 0px 1px 3px 1px rgba(60, 64, 67, 0.15);\n",
       "        fill: #174EA6;\n",
       "      }\n",
       "\n",
       "      [theme=dark] .colab-df-generate {\n",
       "        background-color: #3B4455;\n",
       "        fill: #D2E3FC;\n",
       "      }\n",
       "\n",
       "      [theme=dark] .colab-df-generate:hover {\n",
       "        background-color: #434B5C;\n",
       "        box-shadow: 0px 1px 3px 1px rgba(0, 0, 0, 0.15);\n",
       "        filter: drop-shadow(0px 1px 2px rgba(0, 0, 0, 0.3));\n",
       "        fill: #FFFFFF;\n",
       "      }\n",
       "    </style>\n",
       "    <button class=\"colab-df-generate\" onclick=\"generateWithVariable('df')\"\n",
       "            title=\"Generate code using this dataframe.\"\n",
       "            style=\"display:none;\">\n",
       "\n",
       "  <svg xmlns=\"http://www.w3.org/2000/svg\" height=\"24px\"viewBox=\"0 0 24 24\"\n",
       "       width=\"24px\">\n",
       "    <path d=\"M7,19H8.4L18.45,9,17,7.55,7,17.6ZM5,21V16.75L18.45,3.32a2,2,0,0,1,2.83,0l1.4,1.43a1.91,1.91,0,0,1,.58,1.4,1.91,1.91,0,0,1-.58,1.4L9.25,21ZM18.45,9,17,7.55Zm-12,3A5.31,5.31,0,0,0,4.9,8.1,5.31,5.31,0,0,0,1,6.5,5.31,5.31,0,0,0,4.9,4.9,5.31,5.31,0,0,0,6.5,1,5.31,5.31,0,0,0,8.1,4.9,5.31,5.31,0,0,0,12,6.5,5.46,5.46,0,0,0,6.5,12Z\"/>\n",
       "  </svg>\n",
       "    </button>\n",
       "    <script>\n",
       "      (() => {\n",
       "      const buttonEl =\n",
       "        document.querySelector('#id_5ce97a21-2356-48b2-a150-cf2196e7139a button.colab-df-generate');\n",
       "      buttonEl.style.display =\n",
       "        google.colab.kernel.accessAllowed ? 'block' : 'none';\n",
       "\n",
       "      buttonEl.onclick = () => {\n",
       "        google.colab.notebook.generateWithVariable('df');\n",
       "      }\n",
       "      })();\n",
       "    </script>\n",
       "  </div>\n",
       "\n",
       "    </div>\n",
       "  </div>\n"
      ],
      "text/plain": [
       "     skill  success_chance\n",
       "0    30.90           93.09\n",
       "1    30.83           87.56\n",
       "2    30.72           83.45\n",
       "3    30.60           93.06\n",
       "4    30.45           88.59\n",
       "..     ...             ...\n",
       "181   5.65           90.56\n",
       "182   5.45           90.54\n",
       "183   5.26           90.52\n",
       "184    NaN           90.50\n",
       "185    NaN           90.50\n",
       "\n",
       "[186 rows x 2 columns]"
      ]
     },
     "execution_count": 31,
     "metadata": {},
     "output_type": "execute_result"
    }
   ],
   "source": [
    "df"
   ]
  },
  {
   "cell_type": "markdown",
   "metadata": {
    "id": "xOkoMkBMlFzE"
   },
   "source": [
    "# Skill Progression"
   ]
  },
  {
   "cell_type": "code",
   "execution_count": 40,
   "metadata": {
    "id": "Pd07jL6plHrk"
   },
   "outputs": [],
   "source": [
    "class DailySkillProgress(BaseModel):\n",
    "    date: str\n",
    "    start_skill: float\n",
    "    end_skill: float\n",
    "    daily_gain: float\n",
    "    avg_skill: float\n",
    "    expected_multiplier: float\n",
    "    successful_revives: int\n",
    "    total_revives: int\n",
    "    success_rate: float\n",
    "\n",
    "class SkillRangeTrend(BaseModel):\n",
    "    skill_range: str\n",
    "    avg_daily_gain: float\n",
    "    avg_multiplier: float\n",
    "    days_count: int"
   ]
  },
  {
   "cell_type": "code",
   "execution_count": 42,
   "metadata": {
    "id": "Vw9qWnYmjh18"
   },
   "outputs": [],
   "source": [
    "import json\n",
    "from datetime import datetime, timedelta\n",
    "from collections import defaultdict\n",
    "import math\n",
    "from typing import List"
   ]
  },
  {
   "cell_type": "code",
   "execution_count": 43,
   "metadata": {
    "id": "n-fOWQrEjnUy"
   },
   "outputs": [],
   "source": [
    "def calculate_daily_skill_gains(revive_data: List[ReviveFull]) -> List[DailySkillProgress]:\n",
    "    \"\"\"\n",
    "    Calculate daily skill gains from revive data, accounting for diminishing returns.\n",
    "\n",
    "    Args:\n",
    "        revive_data: List of revive records\n",
    "\n",
    "    Returns:\n",
    "        List of daily summaries with skill gains and progression rates\n",
    "    \"\"\"\n",
    "\n",
    "    def skill_gain_multiplier(current_skill: float) -> float:\n",
    "        \"\"\"Calculate diminishing returns multiplier based on skill level\"\"\"\n",
    "        return max(0.01, 1 - 0.208 * math.log(current_skill))\n",
    "\n",
    "    # Sort revives by timestamp\n",
    "    sorted_revives = sorted(revive_data, key=lambda x: x.timestamp)\n",
    "\n",
    "    # Group revives by date\n",
    "    daily_revives = defaultdict(list)\n",
    "    for revive in sorted_revives:\n",
    "        if revive.reviver.skill is None:\n",
    "            continue\n",
    "\n",
    "        date = datetime.fromtimestamp(revive.timestamp).date()\n",
    "        daily_revives[date].append(revive)\n",
    "\n",
    "    # Calculate daily skill progression\n",
    "    daily_progression = []\n",
    "\n",
    "    for date in sorted(daily_revives.keys()):\n",
    "        day_revives = daily_revives[date]\n",
    "\n",
    "        # Get starting skill for the day (first revive of the day)\n",
    "        day_start_skill = day_revives[0].reviver.skill\n",
    "\n",
    "        # Get ending skill for the day (last revive of the day)\n",
    "        day_end_skill = day_revives[-1].reviver.skill\n",
    "\n",
    "        # Calculate net gain for the day\n",
    "        daily_gain = day_end_skill - day_start_skill\n",
    "\n",
    "        # Calculate expected multiplier for this skill range\n",
    "        avg_skill = (day_start_skill + day_end_skill) / 2\n",
    "        expected_multiplier = skill_gain_multiplier(avg_skill)\n",
    "\n",
    "        # Count successful revives\n",
    "        successful_revives = sum(1 for r in day_revives if r.result == 'success')\n",
    "        total_revives = len(day_revives)\n",
    "\n",
    "        daily_progression.append(DailySkillProgress(\n",
    "            date=str(date),\n",
    "            start_skill=day_start_skill,\n",
    "            end_skill=day_end_skill,\n",
    "            daily_gain=daily_gain,\n",
    "            avg_skill=avg_skill,\n",
    "            expected_multiplier=expected_multiplier,\n",
    "            successful_revives=successful_revives,\n",
    "            total_revives=total_revives,\n",
    "            success_rate=successful_revives / total_revives if total_revives > 0 else 0\n",
    "        ))\n",
    "\n",
    "    return daily_progression"
   ]
  },
  {
   "cell_type": "code",
   "execution_count": 44,
   "metadata": {
    "id": "LxI_RnPejmK4"
   },
   "outputs": [],
   "source": [
    "def analyze_skill_progression_trends(daily_progression: List[DailySkillProgress]) -> List[SkillRangeTrend]:\n",
    "    \"\"\"\n",
    "    Analyze trends in skill progression over time\n",
    "    \"\"\"\n",
    "    if not daily_progression:\n",
    "        return []\n",
    "\n",
    "    # Group by skill ranges to see progression slowdown\n",
    "    skill_ranges = {\n",
    "        '1-10': [],\n",
    "        '10-20': [],\n",
    "        '20-30': [],\n",
    "        '30+': []\n",
    "    }\n",
    "\n",
    "    for day in daily_progression:\n",
    "        avg_skill = day.avg_skill\n",
    "        if avg_skill < 10:\n",
    "            skill_ranges['1-10'].append(day)\n",
    "        elif avg_skill < 20:\n",
    "            skill_ranges['10-20'].append(day)\n",
    "        elif avg_skill < 30:\n",
    "            skill_ranges['20-30'].append(day)\n",
    "        else:\n",
    "            skill_ranges['30+'].append(day)\n",
    "\n",
    "    # Calculate average daily gains by skill range\n",
    "    trends = []\n",
    "    for range_name, days in skill_ranges.items():\n",
    "        if days:\n",
    "            avg_gain = sum(day.daily_gain for day in days) / len(days)\n",
    "            avg_multiplier = sum(day.expected_multiplier for day in days) / len(days)\n",
    "            trends.append(SkillRangeTrend(\n",
    "                skill_range=range_name,\n",
    "                avg_daily_gain=avg_gain,\n",
    "                avg_multiplier=avg_multiplier,\n",
    "                days_count=len(days)\n",
    "            ))\n",
    "\n",
    "    return trends"
   ]
  },
  {
   "cell_type": "code",
   "execution_count": 45,
   "metadata": {
    "id": "lueX2zH1jshF"
   },
   "outputs": [],
   "source": [
    "def get_recent_progression_stats(daily_progression: List[DailySkillProgress], days: int = 30) -> dict:\n",
    "    \"\"\"\n",
    "    Get progression statistics for the most recent period\n",
    "    \"\"\"\n",
    "    if not daily_progression:\n",
    "        return {}\n",
    "\n",
    "    recent_days = daily_progression[-days:]\n",
    "\n",
    "    total_gain = sum(day.daily_gain for day in recent_days)\n",
    "    avg_daily_gain = total_gain / len(recent_days)\n",
    "    avg_multiplier = sum(day.expected_multiplier for day in recent_days) / len(recent_days)\n",
    "    total_revives = sum(day.total_revives for day in recent_days)\n",
    "    success_rate = sum(day.successful_revives for day in recent_days) / total_revives if total_revives > 0 else 0\n",
    "\n",
    "    return {\n",
    "        'period_days': len(recent_days),\n",
    "        'total_skill_gain': total_gain,\n",
    "        'avg_daily_gain': avg_daily_gain,\n",
    "        'avg_multiplier': avg_multiplier,\n",
    "        'total_revives': total_revives,\n",
    "        'success_rate': success_rate,\n",
    "        'start_skill': recent_days[0].start_skill,\n",
    "        'end_skill': recent_days[-1].end_skill\n",
    "    }"
   ]
  },
  {
   "cell_type": "code",
   "execution_count": 46,
   "metadata": {
    "id": "z7w1xE0hk1yA"
   },
   "outputs": [],
   "source": [
    "# Example usage function\n",
    "def analyze_revive_progression(revives: List[ReviveFull]) -> dict:\n",
    "    \"\"\"\n",
    "    Main analysis function that returns comprehensive progression data\n",
    "    \"\"\"\n",
    "    daily_progression = calculate_daily_skill_gains(revives)\n",
    "    trends = analyze_skill_progression_trends(daily_progression)\n",
    "    recent_stats = get_recent_progression_stats(daily_progression, days=30)\n",
    "\n",
    "    return {\n",
    "        'daily_progression': daily_progression,\n",
    "        'skill_trends': trends,\n",
    "        'recent_performance': recent_stats,\n",
    "        'total_analysis_days': len(daily_progression)\n",
    "    }"
   ]
  },
  {
   "cell_type": "code",
   "execution_count": 49,
   "metadata": {
    "id": "MHA0xBXrlXif"
   },
   "outputs": [],
   "source": [
    "progression = analyze_revive_progression(my_revive_data)"
   ]
  },
  {
   "cell_type": "code",
   "execution_count": 50,
   "metadata": {
    "colab": {
     "base_uri": "https://localhost:8080/"
    },
    "id": "czDWaygPlZ8A",
    "outputId": "b8ca1cf1-0db3-4aa4-e0b3-85c569d8611f"
   },
   "outputs": [
    {
     "data": {
      "text/plain": [
       "{'daily_progression': [DailySkillProgress(date='2025-08-24', start_skill=5.26, end_skill=5.26, daily_gain=0.0, avg_skill=5.26, expected_multiplier=0.6546927464360793, successful_revives=1, total_revives=1, success_rate=1.0),\n",
       "  DailySkillProgress(date='2025-08-30', start_skill=5.45, end_skill=5.45, daily_gain=0.0, avg_skill=5.45, expected_multiplier=0.6473119533955682, successful_revives=1, total_revives=1, success_rate=1.0),\n",
       "  DailySkillProgress(date='2025-09-08', start_skill=5.65, end_skill=5.65, daily_gain=0.0, avg_skill=5.65, expected_multiplier=0.6398156466070632, successful_revives=1, total_revives=1, success_rate=1.0),\n",
       "  DailySkillProgress(date='2025-09-15', start_skill=5.83, end_skill=5.83, daily_gain=0.0, avg_skill=5.83, expected_multiplier=0.6332924639246206, successful_revives=1, total_revives=1, success_rate=1.0),\n",
       "  DailySkillProgress(date='2025-09-21', start_skill=6.07, end_skill=6.07, daily_gain=0.0, avg_skill=6.07, expected_multiplier=0.6249014101451473, successful_revives=1, total_revives=1, success_rate=1.0),\n",
       "  DailySkillProgress(date='2025-09-22', start_skill=6.35, end_skill=7.06, daily_gain=0.71, avg_skill=6.705, expected_multiplier=0.6042064685194025, successful_revives=3, total_revives=4, success_rate=0.75),\n",
       "  DailySkillProgress(date='2025-10-03', start_skill=7.45, end_skill=7.45, daily_gain=0.0, avg_skill=7.45, expected_multiplier=0.5822914812625746, successful_revives=1, total_revives=1, success_rate=1.0),\n",
       "  DailySkillProgress(date='2025-10-08', start_skill=7.69, end_skill=7.91, daily_gain=0.21999999999999975, avg_skill=7.800000000000001, expected_multiplier=0.5727422633913264, successful_revives=2, total_revives=2, success_rate=1.0),\n",
       "  DailySkillProgress(date='2025-10-09', start_skill=8.1, end_skill=8.29, daily_gain=0.1899999999999995, avg_skill=8.195, expected_multiplier=0.5624669638632751, successful_revives=2, total_revives=2, success_rate=1.0),\n",
       "  DailySkillProgress(date='2025-10-10', start_skill=8.5, end_skill=10.34, daily_gain=1.8399999999999999, avg_skill=9.42, expected_multiplier=0.5334903015736395, successful_revives=9, total_revives=12, success_rate=0.75),\n",
       "  DailySkillProgress(date='2025-10-11', start_skill=10.34, end_skill=18.39, daily_gain=8.05, avg_skill=14.365, expected_multiplier=0.4457227039742995, successful_revives=47, total_revives=54, success_rate=0.8703703703703703),\n",
       "  DailySkillProgress(date='2025-10-12', start_skill=18.54, end_skill=24.33, daily_gain=5.789999999999999, avg_skill=21.435, expected_multiplier=0.36247477918961246, successful_revives=42, total_revives=52, success_rate=0.8076923076923077),\n",
       "  DailySkillProgress(date='2025-10-13', start_skill=24.47, end_skill=26.21, daily_gain=1.740000000000002, avg_skill=25.34, expected_multiplier=0.3276640916222575, successful_revives=14, total_revives=14, success_rate=1.0),\n",
       "  DailySkillProgress(date='2025-10-14', start_skill=26.37, end_skill=26.97, daily_gain=0.5999999999999979, avg_skill=26.67, expected_multiplier=0.3170238176556641, successful_revives=4, total_revives=6, success_rate=0.6666666666666666),\n",
       "  DailySkillProgress(date='2025-10-15', start_skill=26.97, end_skill=28.65, daily_gain=1.6799999999999997, avg_skill=27.81, expected_multiplier=0.30831770100485834, successful_revives=12, total_revives=13, success_rate=0.9230769230769231),\n",
       "  DailySkillProgress(date='2025-10-16', start_skill=28.77, end_skill=30.6, daily_gain=1.8300000000000018, avg_skill=29.685000000000002, expected_multiplier=0.29474649151369114, successful_revives=15, total_revives=16, success_rate=0.9375),\n",
       "  DailySkillProgress(date='2025-10-17', start_skill=30.72, end_skill=30.9, daily_gain=0.17999999999999972, avg_skill=30.81, expected_multiplier=0.28700942297741616, successful_revives=3, total_revives=3, success_rate=1.0)],\n",
       " 'skill_trends': [SkillRangeTrend(skill_range='1-10', avg_daily_gain=0.29599999999999993, avg_multiplier=0.6055211699118697, days_count=10),\n",
       "  SkillRangeTrend(skill_range='10-20', avg_daily_gain=8.05, avg_multiplier=0.4457227039742995, days_count=1),\n",
       "  SkillRangeTrend(skill_range='20-30', avg_daily_gain=2.3280000000000003, avg_multiplier=0.32204537619721674, days_count=5),\n",
       "  SkillRangeTrend(skill_range='30+', avg_daily_gain=0.17999999999999972, avg_multiplier=0.28700942297741616, days_count=1)],\n",
       " 'recent_performance': {'period_days': 17,\n",
       "  'total_skill_gain': 22.83,\n",
       "  'avg_daily_gain': 1.342941176470588,\n",
       "  'avg_multiplier': 0.49401004159155854,\n",
       "  'total_revives': 184,\n",
       "  'success_rate': 0.8641304347826086,\n",
       "  'start_skill': 5.26,\n",
       "  'end_skill': 30.9},\n",
       " 'total_analysis_days': 17}"
      ]
     },
     "execution_count": 50,
     "metadata": {},
     "output_type": "execute_result"
    }
   ],
   "source": [
    "progression"
   ]
  },
  {
   "cell_type": "code",
   "execution_count": null,
   "metadata": {
    "id": "GGCWJ3JblgZ4"
   },
   "outputs": [],
   "source": []
  }
 ],
 "metadata": {
  "colab": {
   "provenance": []
  },
  "kernelspec": {
   "display_name": "Python 3",
   "language": "python",
   "name": "python3"
  },
  "language_info": {
   "name": "python",
   "version": "3.11.5"
  }
 },
 "nbformat": 4,
 "nbformat_minor": 0
}
